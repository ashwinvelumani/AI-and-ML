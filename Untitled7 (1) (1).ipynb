{
 "cells": [
  {
   "cell_type": "code",
   "execution_count": 1,
   "id": "c6925b7a-4886-4305-b18c-689c52a952d1",
   "metadata": {},
   "outputs": [],
   "source": [
    "import numpy as np"
   ]
  },
  {
   "cell_type": "code",
   "execution_count": 2,
   "id": "2536a3f2-3027-416a-bc21-e85275f886c0",
   "metadata": {},
   "outputs": [],
   "source": [
    "arr=np.array([0, 0, 3, 0, 2, 4, 2, 2, 2, 2])"
   ]
  },
  {
   "cell_type": "code",
   "execution_count": 3,
   "id": "37740f04-4b8b-4838-865c-0783336561c8",
   "metadata": {},
   "outputs": [],
   "source": [
    "seen=set()"
   ]
  },
  {
   "cell_type": "code",
   "execution_count": 5,
   "id": "6ff04e13-6d5f-424a-9e9d-7dc1184fd6a2",
   "metadata": {},
   "outputs": [
    {
     "name": "stdout",
     "output_type": "stream",
     "text": [
      "The history saving thread hit an unexpected error (OperationalError('database or disk is full')).History will not be written to the database.\n"
     ]
    }
   ],
   "source": [
    "duplicates=[]\n",
    "for id_ in arr:\n",
    "    if id_ in seen:\n",
    "       duplicates.append(True)\n",
    "    else:\n",
    "        seen.add(id_)\n",
    "        duplicates.append(False)\n",
    "        \n",
    "duplicates=np.array(duplicates)\n",
    "    "
   ]
  },
  {
   "cell_type": "code",
   "execution_count": 6,
   "id": "26d6df6a-8864-4e84-8e07-be42c71d0db2",
   "metadata": {},
   "outputs": [
    {
     "name": "stdout",
     "output_type": "stream",
     "text": [
      "[ True  True False  True False False  True  True  True  True]\n"
     ]
    }
   ],
   "source": [
    "print(duplicates)"
   ]
  },
  {
   "cell_type": "code",
   "execution_count": null,
   "id": "b0e25010-ca21-4288-9a65-f6d7df00aeab",
   "metadata": {},
   "outputs": [],
   "source": []
  }
 ],
 "metadata": {
  "kernelspec": {
   "display_name": "Python 3 (ipykernel)",
   "language": "python",
   "name": "python3"
  },
  "language_info": {
   "codemirror_mode": {
    "name": "ipython",
    "version": 3
   },
   "file_extension": ".py",
   "mimetype": "text/x-python",
   "name": "python",
   "nbconvert_exporter": "python",
   "pygments_lexer": "ipython3",
   "version": "3.13.5"
  }
 },
 "nbformat": 4,
 "nbformat_minor": 5
}
